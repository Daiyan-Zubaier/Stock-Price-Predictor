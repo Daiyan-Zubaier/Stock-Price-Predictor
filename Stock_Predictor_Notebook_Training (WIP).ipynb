{
  "cells": [
    {
      "cell_type": "markdown",
      "metadata": {
        "id": "view-in-github"
      },
      "source": [
        "<a href=\"https://colab.research.google.com/github/Daiyan-Zubaier/Stock-Price-Predictor/blob/main/Stock_Predictor_Daiyan_%26_Rajit.ipynb\" target=\"_parent\"><img src=\"https://colab.research.google.com/assets/colab-badge.svg\" alt=\"Open In Colab\"/></a>"
      ]
    },
    {
      "cell_type": "markdown",
      "metadata": {
        "id": "lmIYTMRxmhdK"
      },
      "source": [
        "https://github.com/jinglescode/time-series-forecasting-pytorch"
      ]
    },
    {
      "cell_type": "code",
      "execution_count": 1,
      "metadata": {
        "colab": {
          "base_uri": "https://localhost:8080/"
        },
        "id": "GpiP9s7JOjum",
        "outputId": "2501028c-7b5a-4923-cec8-156ce4dc2c4b"
      },
      "outputs": [
        {
          "name": "stdout",
          "output_type": "stream",
          "text": [
            "Requirement already satisfied: pip in c:\\users\\mewan\\appdata\\local\\programs\\python\\python311\\lib\\site-packages (25.1)\n",
            "Note: you may need to restart the kernel to use updated packages.\n",
            "Requirement already satisfied: torch in c:\\users\\mewan\\appdata\\local\\programs\\python\\python311\\lib\\site-packages (2.6.0)\n",
            "Requirement already satisfied: numpy in c:\\users\\mewan\\appdata\\local\\programs\\python\\python311\\lib\\site-packages (2.2.5)\n",
            "Requirement already satisfied: matplotlib in c:\\users\\mewan\\appdata\\local\\programs\\python\\python311\\lib\\site-packages (3.10.1)\n",
            "Requirement already satisfied: yfinance in c:\\users\\mewan\\appdata\\local\\programs\\python\\python311\\lib\\site-packages (0.2.55)\n",
            "Requirement already satisfied: filelock in c:\\users\\mewan\\appdata\\local\\programs\\python\\python311\\lib\\site-packages (from torch) (3.18.0)\n",
            "Requirement already satisfied: typing-extensions>=4.10.0 in c:\\users\\mewan\\appdata\\roaming\\python\\python311\\site-packages (from torch) (4.13.2)\n",
            "Requirement already satisfied: networkx in c:\\users\\mewan\\appdata\\local\\programs\\python\\python311\\lib\\site-packages (from torch) (3.4.2)\n",
            "Requirement already satisfied: jinja2 in c:\\users\\mewan\\appdata\\local\\programs\\python\\python311\\lib\\site-packages (from torch) (3.1.6)\n",
            "Requirement already satisfied: fsspec in c:\\users\\mewan\\appdata\\local\\programs\\python\\python311\\lib\\site-packages (from torch) (2025.3.2)\n",
            "Requirement already satisfied: sympy==1.13.1 in c:\\users\\mewan\\appdata\\local\\programs\\python\\python311\\lib\\site-packages (from torch) (1.13.1)\n",
            "Requirement already satisfied: mpmath<1.4,>=1.1.0 in c:\\users\\mewan\\appdata\\local\\programs\\python\\python311\\lib\\site-packages (from sympy==1.13.1->torch) (1.3.0)\n",
            "Requirement already satisfied: contourpy>=1.0.1 in c:\\users\\mewan\\appdata\\local\\programs\\python\\python311\\lib\\site-packages (from matplotlib) (1.3.2)\n",
            "Requirement already satisfied: cycler>=0.10 in c:\\users\\mewan\\appdata\\local\\programs\\python\\python311\\lib\\site-packages (from matplotlib) (0.12.1)\n",
            "Requirement already satisfied: fonttools>=4.22.0 in c:\\users\\mewan\\appdata\\local\\programs\\python\\python311\\lib\\site-packages (from matplotlib) (4.57.0)\n",
            "Requirement already satisfied: kiwisolver>=1.3.1 in c:\\users\\mewan\\appdata\\local\\programs\\python\\python311\\lib\\site-packages (from matplotlib) (1.4.8)\n",
            "Requirement already satisfied: packaging>=20.0 in c:\\users\\mewan\\appdata\\roaming\\python\\python311\\site-packages (from matplotlib) (25.0)\n",
            "Requirement already satisfied: pillow>=8 in c:\\users\\mewan\\appdata\\local\\programs\\python\\python311\\lib\\site-packages (from matplotlib) (11.2.1)\n",
            "Requirement already satisfied: pyparsing>=2.3.1 in c:\\users\\mewan\\appdata\\local\\programs\\python\\python311\\lib\\site-packages (from matplotlib) (3.2.3)\n",
            "Requirement already satisfied: python-dateutil>=2.7 in c:\\users\\mewan\\appdata\\roaming\\python\\python311\\site-packages (from matplotlib) (2.9.0.post0)\n",
            "Requirement already satisfied: pandas>=1.3.0 in c:\\users\\mewan\\appdata\\local\\programs\\python\\python311\\lib\\site-packages (from yfinance) (2.2.3)\n",
            "Requirement already satisfied: requests>=2.31 in c:\\users\\mewan\\appdata\\local\\programs\\python\\python311\\lib\\site-packages (from yfinance) (2.32.3)\n",
            "Requirement already satisfied: multitasking>=0.0.7 in c:\\users\\mewan\\appdata\\local\\programs\\python\\python311\\lib\\site-packages (from yfinance) (0.0.11)\n",
            "Requirement already satisfied: platformdirs>=2.0.0 in c:\\users\\mewan\\appdata\\roaming\\python\\python311\\site-packages (from yfinance) (4.3.7)\n",
            "Requirement already satisfied: pytz>=2022.5 in c:\\users\\mewan\\appdata\\local\\programs\\python\\python311\\lib\\site-packages (from yfinance) (2025.2)\n",
            "Requirement already satisfied: frozendict>=2.3.4 in c:\\users\\mewan\\appdata\\local\\programs\\python\\python311\\lib\\site-packages (from yfinance) (2.4.6)\n",
            "Requirement already satisfied: peewee>=3.16.2 in c:\\users\\mewan\\appdata\\local\\programs\\python\\python311\\lib\\site-packages (from yfinance) (3.17.9)\n",
            "Requirement already satisfied: beautifulsoup4>=4.11.1 in c:\\users\\mewan\\appdata\\local\\programs\\python\\python311\\lib\\site-packages (from yfinance) (4.13.4)\n",
            "Requirement already satisfied: soupsieve>1.2 in c:\\users\\mewan\\appdata\\local\\programs\\python\\python311\\lib\\site-packages (from beautifulsoup4>=4.11.1->yfinance) (2.7)\n",
            "Requirement already satisfied: tzdata>=2022.7 in c:\\users\\mewan\\appdata\\local\\programs\\python\\python311\\lib\\site-packages (from pandas>=1.3.0->yfinance) (2025.2)\n",
            "Requirement already satisfied: six>=1.5 in c:\\users\\mewan\\appdata\\roaming\\python\\python311\\site-packages (from python-dateutil>=2.7->matplotlib) (1.17.0)\n",
            "Requirement already satisfied: charset-normalizer<4,>=2 in c:\\users\\mewan\\appdata\\local\\programs\\python\\python311\\lib\\site-packages (from requests>=2.31->yfinance) (3.4.1)\n",
            "Requirement already satisfied: idna<4,>=2.5 in c:\\users\\mewan\\appdata\\local\\programs\\python\\python311\\lib\\site-packages (from requests>=2.31->yfinance) (3.10)\n",
            "Requirement already satisfied: urllib3<3,>=1.21.1 in c:\\users\\mewan\\appdata\\local\\programs\\python\\python311\\lib\\site-packages (from requests>=2.31->yfinance) (2.4.0)\n",
            "Requirement already satisfied: certifi>=2017.4.17 in c:\\users\\mewan\\appdata\\local\\programs\\python\\python311\\lib\\site-packages (from requests>=2.31->yfinance) (2025.1.31)\n",
            "Requirement already satisfied: MarkupSafe>=2.0 in c:\\users\\mewan\\appdata\\local\\programs\\python\\python311\\lib\\site-packages (from jinja2->torch) (3.0.2)\n",
            "Note: you may need to restart the kernel to use updated packages.\n",
            "All libraries loaded.\n"
          ]
        }
      ],
      "source": [
        "%pip install --upgrade pip\n",
        "%pip install torch numpy matplotlib yfinance\n",
        "\n",
        "import numpy as np\n",
        "import torch\n",
        "import torch.nn as nn\n",
        "import torch.optim as optim\n",
        "from torch.utils.data import Dataset, DataLoader\n",
        "import matplotlib.pyplot as plt\n",
        "import yfinance as yf\n",
        "import os\n",
        "import pandas as pd\n",
        "import requests\n",
        "from matplotlib.dates import DateFormatter\n",
        "\n",
        "print(\"All libraries loaded.\")"
      ]
    },
    {
      "cell_type": "markdown",
      "metadata": {
        "id": "cAQFQjHacLxI"
      },
      "source": [
        "# Configuration Settings\n",
        "Configures settings for libraries in a 2D hashmap\n"
      ]
    },
    {
      "cell_type": "code",
      "execution_count": 2,
      "metadata": {
        "id": "BLp2azaFQgwA"
      },
      "outputs": [],
      "source": [
        "config = {\n",
        "    #Collects stock price data\n",
        "    \"yahoo_finance\": {\n",
        "        \"symbol\": \"IBM\",\n",
        "    },\n",
        "\n",
        "    #Data preprocessing settings\n",
        "    \"data\": {\n",
        "        # number of past days to predict next price\n",
        "        \"window_size\": 15,\n",
        "        # 80% for training, 20% for testing\n",
        "        \"train_split_size\": 0.80,\n",
        "    },\n",
        "\n",
        "    # Plotting settings\n",
        "    \"plots\": {\n",
        "        # Show data label every x days\n",
        "        \"xticks_interval\": 90,\n",
        "        \"color_actual\": \"#001f3f\",\n",
        "        \"color_train\": \"#3D9970\",\n",
        "        \"color_val\": \"#0074D9\",\n",
        "        \"color_pred_train\": \"#3D9970\",\n",
        "        \"color_pred_val\": \"#0074D9\",\n",
        "        \"color_pred_test\": \"#FF4136\",\n",
        "    },\n",
        "\n",
        "    # LSTM NN Settings\n",
        "    \"model\": {\n",
        "        # Number of features\n",
        "        \"input_size\": 4,\n",
        "        \"num_lstm_layers\": 2,\n",
        "        \"lstm_size\": 64,\n",
        "        # Disables neurons\n",
        "        \"dropout\": 0.1,\n",
        "        \"output_size\": 7\n",
        "    },\n",
        "    \n",
        "    \"training\": {\n",
        "        \"device\": \"cpu\",\n",
        "        \"batch_size\": 64,\n",
        "        # Train for x cycles\n",
        "        \"num_epoch\": 100,\n",
        "        \"learning_rate\": 0.001,\n",
        "        # Decreasing lr every x epochs\n",
        "        \"scheduler_step_size\": 50,\n",
        "        \"weight_decay\": 1e-5,\n",
        "    }\n",
        "}"
      ]
    },
    {
      "cell_type": "code",
      "execution_count": 3,
      "metadata": {
        "id": "ojVKULn9jjxY"
      },
      "outputs": [],
      "source": [
        "class Normalizer():\n",
        "    def __init__(self):\n",
        "        self.mu = None\n",
        "        self.sd = None\n",
        "\n",
        "    def fit_transform(self, x):\n",
        "        self.mu = np.mean(x, axis=(0), keepdims=True)\n",
        "        self.sd = np.std(x, axis=(0), keepdims=True)\n",
        "        normalized_x = (x - self.mu)/self.sd\n",
        "        return normalized_x\n",
        "    \n",
        "    def transform(self, x):\n",
        "        return (x - self.mu) / self.sd\n",
        "\n",
        "    def inverse_transform(self, x):\n",
        "        return (x*self.sd) + self.mu\n",
        "\n",
        "feature_scaler = Normalizer()\n",
        "label_scaler = Normalizer()"
      ]
    },
    {
      "cell_type": "code",
      "execution_count": 4,
      "metadata": {
        "colab": {
          "base_uri": "https://localhost:8080/",
          "height": 351
        },
        "id": "J46aL3ZEcG3L",
        "outputId": "1318e999-935c-431b-c4f0-d96c823eedd7"
      },
      "outputs": [
        {
          "name": "stdout",
          "output_type": "stream",
          "text": [
            "YF.download() has changed argument auto_adjust default to True\n",
            "Number data points: 3706 from 2010-08-06 to 2025-04-30\n",
            "[[-1.30995502 -0.58197515 -1.32573788 -1.38810802]\n",
            " [-1.27639583  0.96700095 -1.31376581 -1.38467823]\n",
            " [-1.27928205 -0.11379423 -1.3031908  -1.38250085]\n",
            " ...\n",
            " [ 3.83128302  1.09548075  3.89164093  4.14018416]\n",
            " [ 3.93371545  0.92412386  3.89428769  4.12531784]\n",
            " [ 4.01077797  0.67830321  3.9198426   4.11970193]]\n",
            "[[ 74.04164886]\n",
            " [ 75.09986877]\n",
            " [ 75.00885773]\n",
            " ...\n",
            " [236.16000366]\n",
            " [239.38999939]\n",
            " [241.82000732]]\n",
            "3706\n",
            "from 2010-08-06 to 2025-04-30\n"
          ]
        },
        {
          "data": {
            "image/png": "[encoded data removed]",
            "text/plain": [
              "<Figure size 2000x400 with 1 Axes>"
            ]
          },
          "metadata": {},
          "output_type": "display_data"
        }
      ],
      "source": [
        "def download_data(config):\n",
        "    symbol = config[\"yahoo_finance\"][\"symbol\"]\n",
        "    \n",
        "    data = yf.download(symbol, period=\"max\", interval=\"1d\", progress=False)\n",
        "    recent_years = 15 # amount of years in training data\n",
        "    total_years = data.index[-1].year - data.index[0].year + 1\n",
        "    cutoff_index = int(len(data) * (recent_years / total_years))\n",
        "    data = data[-cutoff_index:]\n",
        "\n",
        "    data[\"daily_return\"] = data[\"Close\"].pct_change()\n",
        "    data[\"7d_ma\"] = data[\"Close\"].rolling(window=7).mean()\n",
        "    data[\"30d_ma\"] = data[\"Close\"].rolling(window=30).mean()\n",
        "    data.dropna(inplace=True)\n",
        "\n",
        "    if data.empty:\n",
        "        raise ValueError(f\"No data found for symbol {symbol}\")\n",
        "\n",
        "    data_date = data.index.strftime('%Y-%m-%d').tolist()\n",
        "    data_close_price = data['Close'].values\n",
        "    data_close_price = np.array(data_close_price)\n",
        "\n",
        "    features_raw = data[[\"Close\", \"daily_return\", \"7d_ma\", \"30d_ma\"]].values\n",
        "    labels_raw = data[\"Close\"].values.reshape(-1, 1)\n",
        "    features = feature_scaler.fit_transform(features_raw)\n",
        "    labels = labels_raw.flatten()\n",
        "\n",
        "    num_data_points = len(data_date)\n",
        "    display_date_range = \"from \" + data_date[0] + \" to \" + data_date[-1]\n",
        "\n",
        "    print(\"Number data points:\", num_data_points, display_date_range)\n",
        "\n",
        "    return data_date, data_close_price, features, labels, num_data_points, display_date_range\n",
        "\n",
        "\n",
        "'''\n",
        "data_date: List of dates.\n",
        "data_close_price: NumPy array of closing prices.\n",
        "num_data_points: Total number of data points.\n",
        "display_date_range: A string indicating the range of dates.\n",
        "'''\n",
        "\n",
        "data_date, data_close_price, features, labels, num_data_points, display_date_range = download_data(config)\n",
        "\n",
        "print(features)\n",
        "print(data_close_price)\n",
        "print(num_data_points)\n",
        "print(display_date_range)\n",
        "\n",
        "# plot\n",
        "\n",
        "fig = plt.figure(figsize=(25, 5), dpi=80)\n",
        "fig.patch.set_facecolor((1.0, 1.0, 1.0))\n",
        "plt.plot(data_date, data_close_price, color=config[\"plots\"][\"color_actual\"])\n",
        "xticks = [data_date[i] if ((i%config[\"plots\"][\"xticks_interval\"]==0 and (num_data_points-i) > config[\"plots\"][\"xticks_interval\"]) or i==num_data_points-1) else None for i in range(num_data_points)] # make x ticks nice\n",
        "x = np.arange(0,len(xticks))\n",
        "plt.xticks(x, xticks, rotation='vertical')\n",
        "plt.title(\"Daily close price for \" + config[\"yahoo_finance\"][\"symbol\"] + \", \" + display_date_range)\n",
        "plt.grid(visible=True, which='major', axis='y', linestyle='--')\n",
        "plt.show()"
      ]
    },
    {
      "cell_type": "code",
      "execution_count": 5,
      "metadata": {
        "id": "SlL_zcYo_8gc"
      },
      "outputs": [],
      "source": [
        "def prepare_data_x(x, window_size, forecast_size = 7):\n",
        "    # perform windowing\n",
        "    n_samples = x.shape[0] - window_size - forecast_size + 1\n",
        "    output = np.lib.stride_tricks.as_strided(x,shape=(n_samples, window_size, x.shape[1]),strides=(x.strides[0], x.strides[0], x.strides[1]))\n",
        "    return output\n",
        "\n",
        "\n",
        "def prepare_data_y(x, window_size, forecast_size = 7):\n",
        "    n_samples = len(x) - window_size - forecast_size + 1\n",
        "    output = np.array([\n",
        "        x[i + window_size : i + window_size + forecast_size]\n",
        "        for i in range(n_samples)\n",
        "    ])\n",
        "    return output.astype(np.float32)\n",
        "\n",
        "data_x = prepare_data_x(\n",
        "    features,\n",
        "    window_size = config[\"data\"][\"window_size\"],\n",
        "    forecast_size = 7\n",
        ")\n",
        "data_y = prepare_data_y(\n",
        "    labels.flatten(), \n",
        "    window_size = config[\"data\"][\"window_size\"],\n",
        "    forecast_size = 7\n",
        ")\n",
        "\n",
        "assert data_x.shape[0] == data_y.shape[0], f\"X and Y mismatch: {data_x.shape} vs {data_y.shape}\"\n",
        "\n",
        "# split dataset\n",
        "\n",
        "split_index = int(data_y.shape[0]*config[\"data\"][\"train_split_size\"])\n",
        "data_x_train = data_x[:split_index]\n",
        "data_x_val = data_x[split_index:]\n",
        "data_y_train = data_y[:split_index]\n",
        "data_y_val = data_y[split_index:]\n",
        "\n",
        "data_y_train = label_scaler.fit_transform(data_y_train)\n",
        "data_y_val = label_scaler.transform(data_y_val)\n"
      ]
    },
    {
      "cell_type": "markdown",
      "metadata": {
        "id": "N7Ml3_iGKYtR"
      },
      "source": [
        "## Dataloader class\n",
        "\n",
        "Based on https://pytorch.org/tutorials/beginner/basics/data_tutorial.html\n",
        "Our class is a map-style dataset"
      ]
    },
    {
      "cell_type": "code",
      "execution_count": 6,
      "metadata": {
        "colab": {
          "base_uri": "https://localhost:8080/"
        },
        "id": "OyvJyHN-zUa_",
        "outputId": "21c431ab-1a70-4a08-e70f-3667d30ae724"
      },
      "outputs": [
        {
          "name": "stdout",
          "output_type": "stream",
          "text": [
            "data_x_train (2948, 15, 4)\n",
            "data_x_val (737, 15, 4)\n",
            "Train data shape (2948, 15, 4) (2948, 7)\n",
            "Validation data shape (737, 15, 4) (737, 7)\n",
            "data_x shape: (3685, 15, 4)\n",
            "data_y shape: (3685, 7)\n",
            "Length of train_dataset: 2948\n",
            "Length of val_dataset: 737\n",
            "Shape of train_dataset.x: (2948, 15, 4)\n",
            "Shape of train_dataset.y: (2948, 7)\n"
          ]
        }
      ],
      "source": [
        "class StockDataset(Dataset):\n",
        "    def __init__(self, x, y):\n",
        "        # expanding dimension of array, currently (batch, window), after (batch, window, features)\n",
        "        self.x = x.astype(np.float32)\n",
        "        self.y = y.astype(np.float32)\n",
        "\n",
        "    def __len__(self):\n",
        "        return len(self.y)\n",
        "\n",
        "    def __getitem__(self, idx):\n",
        "        return self.x[idx], self.y[idx]\n",
        "\n",
        "print(\"data_x_train\", data_x_train.shape)\n",
        "print(\"data_x_val\", data_x_val.shape)\n",
        "train_dataset = StockDataset(data_x_train, data_y_train)\n",
        "val_dataset = StockDataset(data_x_val, data_y_val)\n",
        "\n",
        "print(\"Train data shape\", train_dataset.x.shape, train_dataset.y.shape)\n",
        "print(\"Validation data shape\", val_dataset.x.shape, val_dataset.y.shape)\n",
        "\n",
        "print(\"data_x shape:\", data_x.shape)  # Should be (XXXX, 15, 4)\n",
        "print(\"data_y shape:\", data_y.shape)  # Should be (XXXX, 7)\n",
        "\n",
        "print(\"Length of train_dataset:\", len(train_dataset))\n",
        "print(\"Length of val_dataset:\", len(val_dataset))\n",
        "\n",
        "print(\"Shape of train_dataset.x:\", train_dataset.x.shape)\n",
        "print(\"Shape of train_dataset.y:\", train_dataset.y.shape)\n",
        "\n",
        "train_dataloader = DataLoader(train_dataset, batch_size=config[\"training\"][\"batch_size\"], shuffle=True)\n",
        "val_dataloader = DataLoader(val_dataset, batch_size=config[\"training\"][\"batch_size\"], shuffle=True)"
      ]
    },
    {
      "cell_type": "code",
      "execution_count": 7,
      "metadata": {
        "colab": {
          "base_uri": "https://localhost:8080/"
        },
        "id": "_hOhWdRdKf_E",
        "outputId": "642a6883-32c4-4f17-f17b-d5067f87f309"
      },
      "outputs": [
        {
          "name": "stdout",
          "output_type": "stream",
          "text": [
            "Loaded model from stock_models/IBM.pth\n",
            "Epoch[1/100] | loss train:0.017060, test:0.565707 | lr:0.001000\n",
            "Epoch[2/100] | loss train:0.017086, test:0.571932 | lr:0.001000\n",
            "Epoch[3/100] | loss train:0.022379, test:0.538445 | lr:0.001000\n",
            "Epoch[4/100] | loss train:0.023904, test:0.561298 | lr:0.001000\n",
            "Epoch[5/100] | loss train:0.017217, test:0.568099 | lr:0.001000\n",
            "Epoch[6/100] | loss train:0.015242, test:0.561421 | lr:0.001000\n",
            "Epoch[7/100] | loss train:0.016704, test:0.568869 | lr:0.001000\n",
            "Epoch[8/100] | loss train:0.014977, test:0.555005 | lr:0.001000\n",
            "Epoch[9/100] | loss train:0.015413, test:0.600291 | lr:0.001000\n",
            "Epoch[10/100] | loss train:0.023255, test:0.564334 | lr:0.001000\n",
            "Epoch[11/100] | loss train:0.021510, test:0.565001 | lr:0.001000\n",
            "Epoch[12/100] | loss train:0.019414, test:0.556077 | lr:0.001000\n",
            "Epoch[13/100] | loss train:0.016829, test:0.564548 | lr:0.001000\n"
          ]
        },
        {
          "ename": "KeyboardInterrupt",
          "evalue": "",
          "output_type": "error",
          "traceback": [
            "\u001b[31m---------------------------------------------------------------------------\u001b[39m",
            "\u001b[31mKeyboardInterrupt\u001b[39m                         Traceback (most recent call last)",
            "\u001b[36mCell\u001b[39m\u001b[36m \u001b[39m\u001b[32mIn[7]\u001b[39m\u001b[32m, line 92\u001b[39m\n\u001b[32m     86\u001b[39m scheduler = optim.lr_scheduler.StepLR(optimizer,\n\u001b[32m     87\u001b[39m                                       step_size=config[\u001b[33m\"\u001b[39m\u001b[33mtraining\u001b[39m\u001b[33m\"\u001b[39m][\u001b[33m\"\u001b[39m\u001b[33mscheduler_step_size\u001b[39m\u001b[33m\"\u001b[39m],  \u001b[38;5;66;03m# learning rate is adjusted (multiplied by gamma)\u001b[39;00m\n\u001b[32m     88\u001b[39m                                       gamma=\u001b[32m0.5\u001b[39m)\n\u001b[32m     91\u001b[39m \u001b[38;5;28;01mfor\u001b[39;00m epoch \u001b[38;5;129;01min\u001b[39;00m \u001b[38;5;28mrange\u001b[39m(config[\u001b[33m\"\u001b[39m\u001b[33mtraining\u001b[39m\u001b[33m\"\u001b[39m][\u001b[33m\"\u001b[39m\u001b[33mnum_epoch\u001b[39m\u001b[33m\"\u001b[39m]):\n\u001b[32m---> \u001b[39m\u001b[32m92\u001b[39m     loss_train, lr_train = \u001b[43mrun_epoch\u001b[49m\u001b[43m(\u001b[49m\u001b[43mtrain_dataloader\u001b[49m\u001b[43m,\u001b[49m\u001b[43m \u001b[49m\u001b[43mis_training\u001b[49m\u001b[43m=\u001b[49m\u001b[38;5;28;43;01mTrue\u001b[39;49;00m\u001b[43m)\u001b[49m\n\u001b[32m     93\u001b[39m     loss_val, lr_val = run_epoch(val_dataloader, is_training=\u001b[38;5;28;01mFalse\u001b[39;00m)\n\u001b[32m     94\u001b[39m     scheduler.step()    \u001b[38;5;66;03m# Adjust lr\u001b[39;00m\n",
            "\u001b[36mCell\u001b[39m\u001b[36m \u001b[39m\u001b[32mIn[7]\u001b[39m\u001b[32m, line 62\u001b[39m, in \u001b[36mrun_epoch\u001b[39m\u001b[34m(dataloader, is_training)\u001b[39m\n\u001b[32m     59\u001b[39m loss = criterion(out.contiguous(), y.squeeze(-\u001b[32m1\u001b[39m).contiguous())    \u001b[38;5;66;03m# Mean squared error loss\u001b[39;00m\n\u001b[32m     61\u001b[39m \u001b[38;5;28;01mif\u001b[39;00m is_training:\n\u001b[32m---> \u001b[39m\u001b[32m62\u001b[39m     \u001b[43mloss\u001b[49m\u001b[43m.\u001b[49m\u001b[43mbackward\u001b[49m\u001b[43m(\u001b[49m\u001b[43m)\u001b[49m     \u001b[38;5;66;03m# Back prop\u001b[39;00m\n\u001b[32m     63\u001b[39m     torch.nn.utils.clip_grad_norm_(model.parameters(), max_norm=\u001b[32m1.0\u001b[39m) \u001b[38;5;66;03m# Prevents explosive gradients\u001b[39;00m\n\u001b[32m     64\u001b[39m     optimizer.step()    \u001b[38;5;66;03m# Update weights\u001b[39;00m\n",
            "\u001b[36mFile \u001b[39m\u001b[32mc:\\Users\\mewan\\AppData\\Local\\Programs\\Python\\Python311\\Lib\\site-packages\\torch\\_tensor.py:626\u001b[39m, in \u001b[36mTensor.backward\u001b[39m\u001b[34m(self, gradient, retain_graph, create_graph, inputs)\u001b[39m\n\u001b[32m    616\u001b[39m \u001b[38;5;28;01mif\u001b[39;00m has_torch_function_unary(\u001b[38;5;28mself\u001b[39m):\n\u001b[32m    617\u001b[39m     \u001b[38;5;28;01mreturn\u001b[39;00m handle_torch_function(\n\u001b[32m    618\u001b[39m         Tensor.backward,\n\u001b[32m    619\u001b[39m         (\u001b[38;5;28mself\u001b[39m,),\n\u001b[32m   (...)\u001b[39m\u001b[32m    624\u001b[39m         inputs=inputs,\n\u001b[32m    625\u001b[39m     )\n\u001b[32m--> \u001b[39m\u001b[32m626\u001b[39m \u001b[43mtorch\u001b[49m\u001b[43m.\u001b[49m\u001b[43mautograd\u001b[49m\u001b[43m.\u001b[49m\u001b[43mbackward\u001b[49m\u001b[43m(\u001b[49m\n\u001b[32m    627\u001b[39m \u001b[43m    \u001b[49m\u001b[38;5;28;43mself\u001b[39;49m\u001b[43m,\u001b[49m\u001b[43m \u001b[49m\u001b[43mgradient\u001b[49m\u001b[43m,\u001b[49m\u001b[43m \u001b[49m\u001b[43mretain_graph\u001b[49m\u001b[43m,\u001b[49m\u001b[43m \u001b[49m\u001b[43mcreate_graph\u001b[49m\u001b[43m,\u001b[49m\u001b[43m \u001b[49m\u001b[43minputs\u001b[49m\u001b[43m=\u001b[49m\u001b[43minputs\u001b[49m\n\u001b[32m    628\u001b[39m \u001b[43m\u001b[49m\u001b[43m)\u001b[49m\n",
            "\u001b[36mFile \u001b[39m\u001b[32mc:\\Users\\mewan\\AppData\\Local\\Programs\\Python\\Python311\\Lib\\site-packages\\torch\\autograd\\__init__.py:347\u001b[39m, in \u001b[36mbackward\u001b[39m\u001b[34m(tensors, grad_tensors, retain_graph, create_graph, grad_variables, inputs)\u001b[39m\n\u001b[32m    342\u001b[39m     retain_graph = create_graph\n\u001b[32m    344\u001b[39m \u001b[38;5;66;03m# The reason we repeat the same comment below is that\u001b[39;00m\n\u001b[32m    345\u001b[39m \u001b[38;5;66;03m# some Python versions print out the first line of a multi-line function\u001b[39;00m\n\u001b[32m    346\u001b[39m \u001b[38;5;66;03m# calls in the traceback and some print out the last line\u001b[39;00m\n\u001b[32m--> \u001b[39m\u001b[32m347\u001b[39m \u001b[43m_engine_run_backward\u001b[49m\u001b[43m(\u001b[49m\n\u001b[32m    348\u001b[39m \u001b[43m    \u001b[49m\u001b[43mtensors\u001b[49m\u001b[43m,\u001b[49m\n\u001b[32m    349\u001b[39m \u001b[43m    \u001b[49m\u001b[43mgrad_tensors_\u001b[49m\u001b[43m,\u001b[49m\n\u001b[32m    350\u001b[39m \u001b[43m    \u001b[49m\u001b[43mretain_graph\u001b[49m\u001b[43m,\u001b[49m\n\u001b[32m    351\u001b[39m \u001b[43m    \u001b[49m\u001b[43mcreate_graph\u001b[49m\u001b[43m,\u001b[49m\n\u001b[32m    352\u001b[39m \u001b[43m    \u001b[49m\u001b[43minputs\u001b[49m\u001b[43m,\u001b[49m\n\u001b[32m    353\u001b[39m \u001b[43m    \u001b[49m\u001b[43mallow_unreachable\u001b[49m\u001b[43m=\u001b[49m\u001b[38;5;28;43;01mTrue\u001b[39;49;00m\u001b[43m,\u001b[49m\n\u001b[32m    354\u001b[39m \u001b[43m    \u001b[49m\u001b[43maccumulate_grad\u001b[49m\u001b[43m=\u001b[49m\u001b[38;5;28;43;01mTrue\u001b[39;49;00m\u001b[43m,\u001b[49m\n\u001b[32m    355\u001b[39m \u001b[43m\u001b[49m\u001b[43m)\u001b[49m\n",
            "\u001b[36mFile \u001b[39m\u001b[32mc:\\Users\\mewan\\AppData\\Local\\Programs\\Python\\Python311\\Lib\\site-packages\\torch\\autograd\\graph.py:823\u001b[39m, in \u001b[36m_engine_run_backward\u001b[39m\u001b[34m(t_outputs, *args, **kwargs)\u001b[39m\n\u001b[32m    821\u001b[39m     unregister_hooks = _register_logging_hooks_on_whole_graph(t_outputs)\n\u001b[32m    822\u001b[39m \u001b[38;5;28;01mtry\u001b[39;00m:\n\u001b[32m--> \u001b[39m\u001b[32m823\u001b[39m     \u001b[38;5;28;01mreturn\u001b[39;00m \u001b[43mVariable\u001b[49m\u001b[43m.\u001b[49m\u001b[43m_execution_engine\u001b[49m\u001b[43m.\u001b[49m\u001b[43mrun_backward\u001b[49m\u001b[43m(\u001b[49m\u001b[43m  \u001b[49m\u001b[38;5;66;43;03m# Calls into the C++ engine to run the backward pass\u001b[39;49;00m\n\u001b[32m    824\u001b[39m \u001b[43m        \u001b[49m\u001b[43mt_outputs\u001b[49m\u001b[43m,\u001b[49m\u001b[43m \u001b[49m\u001b[43m*\u001b[49m\u001b[43margs\u001b[49m\u001b[43m,\u001b[49m\u001b[43m \u001b[49m\u001b[43m*\u001b[49m\u001b[43m*\u001b[49m\u001b[43mkwargs\u001b[49m\n\u001b[32m    825\u001b[39m \u001b[43m    \u001b[49m\u001b[43m)\u001b[49m  \u001b[38;5;66;03m# Calls into the C++ engine to run the backward pass\u001b[39;00m\n\u001b[32m    826\u001b[39m \u001b[38;5;28;01mfinally\u001b[39;00m:\n\u001b[32m    827\u001b[39m     \u001b[38;5;28;01mif\u001b[39;00m attach_logging_hooks:\n",
            "\u001b[31mKeyboardInterrupt\u001b[39m: "
          ]
        }
      ],
      "source": [
        "model_path = f'stock_models/{config[\"yahoo_finance\"][\"symbol\"]}.pth'\n",
        "\n",
        "class LSTMModel(nn.Module):\n",
        "    def __init__(self, input_size=4, hidden_layer_size=64, num_layers=2, output_size=7, dropout=0.2):\n",
        "        super().__init__()\n",
        "        self.hidden_layer_size = hidden_layer_size\n",
        "\n",
        "        self.linear_1 = nn.Linear(input_size, hidden_layer_size)  # Projects input shape into hidden layer shape\n",
        "        self.relu = nn.ReLU()     # Activation function\n",
        "\n",
        "        # Defining LSTM model\n",
        "        self.lstm = nn.LSTM(hidden_layer_size, hidden_size=self.hidden_layer_size, num_layers=num_layers, batch_first=True)\n",
        "\n",
        "        self.dropout = nn.Dropout(dropout)\n",
        "        self.linear_2 = nn.Linear(num_layers*hidden_layer_size, output_size)  # Outputs back into input shape\n",
        "\n",
        "\n",
        "    def forward(self, x):\n",
        "        batchsize = x.shape[0]\n",
        "\n",
        "        # layer 1\n",
        "        x = self.linear_1(x)\n",
        "        x = self.relu(x)\n",
        "\n",
        "        # LSTM layer\n",
        "        lstm_out, (h_n, c_n) = self.lstm(x)\n",
        "\n",
        "        # reshape output from hidden cell into [batch, features] for linear_2\n",
        "        x = h_n.permute(1, 0, 2).reshape(batchsize, -1)\n",
        "\n",
        "        # layer 2\n",
        "        x = self.dropout(x)\n",
        "        predictions = self.linear_2(x)\n",
        "        return predictions\n",
        "\n",
        "def run_epoch(dataloader, is_training=False):\n",
        "    epoch_loss = 0\n",
        "\n",
        "    # We don't want to change the NN during validation\n",
        "    if is_training:\n",
        "        model.train()\n",
        "        # Randomly turn off neurons and data normalised\n",
        "    else:\n",
        "        model.eval()\n",
        "\n",
        "    for idx, (x, y) in enumerate(dataloader):\n",
        "\n",
        "        if is_training:\n",
        "            # ensures that each batch starts with fresh gradients before backpropagation\n",
        "            optimizer.zero_grad()\n",
        "\n",
        "        batchsize = x.shape[0]\n",
        "\n",
        "        # Move to GPU\n",
        "        x = x.to(config[\"training\"][\"device\"])\n",
        "        y = y.to(config[\"training\"][\"device\"])\n",
        "\n",
        "        out = model(x)    # PyTorch automatically calls forward prop\n",
        "        loss = criterion(out.contiguous(), y.squeeze(-1).contiguous())    # Mean squared error loss\n",
        "\n",
        "        if is_training:\n",
        "            loss.backward()     # Back prop\n",
        "            torch.nn.utils.clip_grad_norm_(model.parameters(), max_norm=1.0) # Prevents explosive gradients\n",
        "            optimizer.step()    # Update weights\n",
        "\n",
        "        epoch_loss += (loss.detach().item() / batchsize)\n",
        "\n",
        "    lr = scheduler.get_last_lr()[0]\n",
        "\n",
        "    return epoch_loss, lr\n",
        "\n",
        "model = LSTMModel(input_size=config[\"model\"][\"input_size\"], hidden_layer_size=config[\"model\"][\"lstm_size\"], num_layers=config[\"model\"][\"num_lstm_layers\"], output_size=config[\"model\"][\"output_size\"], dropout=config[\"model\"][\"dropout\"])\n",
        "model = model.to(config[\"training\"][\"device\"])\n",
        "if os.path.exists(model_path):\n",
        "    model.load_state_dict(torch.load(model_path), strict = False)\n",
        "    print(f\"Loaded model from {model_path}\")\n",
        "else:\n",
        "    print(f\"No saved model found for {config['yahoo_finance']['symbol']}, training new model.\")\n",
        "\n",
        "\n",
        "criterion = nn.SmoothL1Loss()\n",
        "optimizer = optim.Adam(model.parameters(),\n",
        "    lr=config[\"training\"][\"learning_rate\"],\n",
        "    betas=(0.9, 0.98), eps=1e-9,\n",
        "    weight_decay=config[\"training\"].get(\"weight_decay\", 1e-5))\n",
        "scheduler = optim.lr_scheduler.StepLR(optimizer,\n",
        "                                      step_size=config[\"training\"][\"scheduler_step_size\"],  # learning rate is adjusted (multiplied by gamma)\n",
        "                                      gamma=0.5)\n",
        "\n",
        "\n",
        "for epoch in range(config[\"training\"][\"num_epoch\"]):\n",
        "    loss_train, lr_train = run_epoch(train_dataloader, is_training=True)\n",
        "    loss_val, lr_val = run_epoch(val_dataloader, is_training=False)\n",
        "    scheduler.step()    # Adjust lr\n",
        "\n",
        "    print('Epoch[{}/{}] | loss train:{:.6f}, test:{:.6f} | lr:{:.6f}'\n",
        "              .format(epoch+1, config[\"training\"][\"num_epoch\"], loss_train, loss_val, lr_train))\n",
        "    \n",
        "torch.save(model.state_dict(), f'stock_models/{config[\"yahoo_finance\"][\"symbol\"]}.pth')\n",
        "print(f\"Model saved to {model_path}\")"
      ]
    },
    {
      "cell_type": "code",
      "execution_count": null,
      "metadata": {
        "colab": {
          "base_uri": "https://localhost:8080/",
          "height": 259
        },
        "id": "6LqZ_LuRpbaj",
        "outputId": "c6402d64-4093-429e-b07a-4431f3cfeac5"
      },
      "outputs": [
        {
          "ename": "ValueError",
          "evalue": "could not broadcast input array from shape (144452,) into shape (2948,)",
          "output_type": "error",
          "traceback": [
            "\u001b[31m---------------------------------------------------------------------------\u001b[39m",
            "\u001b[31mValueError\u001b[39m                                Traceback (most recent call last)",
            "\u001b[36mCell\u001b[39m\u001b[36m \u001b[39m\u001b[32mIn[67]\u001b[39m\u001b[32m, line 31\u001b[39m\n\u001b[32m     28\u001b[39m to_plot_data_y_train_pred = np.full(num_data_points, np.nan)\n\u001b[32m     29\u001b[39m to_plot_data_y_val_pred = np.full(num_data_points, np.nan)\n\u001b[32m---> \u001b[39m\u001b[32m31\u001b[39m \u001b[43mto_plot_data_y_train_pred\u001b[49m\u001b[43m[\u001b[49m\u001b[43mconfig\u001b[49m\u001b[43m[\u001b[49m\u001b[33;43m\"\u001b[39;49m\u001b[33;43mdata\u001b[39;49m\u001b[33;43m\"\u001b[39;49m\u001b[43m]\u001b[49m\u001b[43m[\u001b[49m\u001b[33;43m\"\u001b[39;49m\u001b[33;43mwindow_size\u001b[39;49m\u001b[33;43m\"\u001b[39;49m\u001b[43m]\u001b[49m\u001b[43m:\u001b[49m\u001b[43msplit_index\u001b[49m\u001b[43m+\u001b[49m\u001b[43mconfig\u001b[49m\u001b[43m[\u001b[49m\u001b[33;43m\"\u001b[39;49m\u001b[33;43mdata\u001b[39;49m\u001b[33;43m\"\u001b[39;49m\u001b[43m]\u001b[49m\u001b[43m[\u001b[49m\u001b[33;43m\"\u001b[39;49m\u001b[33;43mwindow_size\u001b[39;49m\u001b[33;43m\"\u001b[39;49m\u001b[43m]\u001b[49m\u001b[43m]\u001b[49m = label_scaler.inverse_transform(predicted_train.reshape(-\u001b[32m1\u001b[39m, \u001b[32m1\u001b[39m)).flatten().flatten()\n\u001b[32m     32\u001b[39m val_start_idx = split_index + config[\u001b[33m\"\u001b[39m\u001b[33mdata\u001b[39m\u001b[33m\"\u001b[39m][\u001b[33m\"\u001b[39m\u001b[33mwindow_size\u001b[39m\u001b[33m\"\u001b[39m]\n\u001b[32m     33\u001b[39m val_end_idx = val_start_idx + \u001b[38;5;28mlen\u001b[39m(predicted_val)\n",
            "\u001b[31mValueError\u001b[39m: could not broadcast input array from shape (144452,) into shape (2948,)"
          ]
        }
      ],
      "source": [
        "# re-initialize to ensure, data isnt shuffled when presenting data\n",
        "train_dataloader = DataLoader(train_dataset, batch_size=config[\"training\"][\"batch_size\"], shuffle=False)\n",
        "val_dataloader = DataLoader(val_dataset, batch_size=config[\"training\"][\"batch_size\"], shuffle=False)\n",
        "\n",
        "model.eval()  # Prime for validation and testing\n",
        "\n",
        "# predict on the training data, to see how well the model managed to learn and memorize\n",
        "predicted_train = np.array([])\n",
        "\n",
        "for idx, (x, y) in enumerate(train_dataloader):\n",
        "    x = x.to(config[\"training\"][\"device\"])\n",
        "    out = model(x)\n",
        "    out = out.cpu().detach().numpy()\n",
        "    predicted_train = np.concatenate((predicted_train, out.flatten()))\n",
        "\n",
        "# predict on the validation data, to see how the model does\n",
        "\n",
        "predicted_val = np.array([])\n",
        "\n",
        "for (x, y) in val_dataloader:\n",
        "    x = x.to(config[\"training\"][\"device\"])\n",
        "    out = model(x)                          # Forward prop\n",
        "    out = out.cpu().detach().numpy().flatten()       # Converting output tensor into a numpy array\n",
        "    predicted_val = np.concatenate((predicted_val, out))\n",
        "\n",
        "# prepare data for plotting\n",
        "\n",
        "to_plot_data_y_train_pred = np.full(num_data_points, np.nan)\n",
        "to_plot_data_y_val_pred = np.full(num_data_points, np.nan)\n",
        "\n",
        "to_plot_data_y_train_pred[config[\"data\"][\"window_size\"]:split_index+config[\"data\"][\"window_size\"]] = label_scaler.inverse_transform(predicted_train.reshape(-1, 1)).flatten()\n",
        "val_start_idx = split_index + config[\"data\"][\"window_size\"]\n",
        "val_end_idx = val_start_idx + len(predicted_val)\n",
        "to_plot_data_y_val_pred[val_start_idx:val_end_idx] = label_scaler.inverse_transform(predicted_val.reshape(-1, 1)).flatten()\n",
        "\n",
        "\n",
        "print(\"Predicted train shape:\", predicted_train.shape)\n",
        "print(\"Predicted val shape:\", predicted_val.shape)\n",
        "print(\"Inverse transformed val shape:\", to_plot_data_y_val_pred.shape)\n",
        "\n",
        "# plots\n",
        "\n",
        "fig = plt.figure(figsize=(25, 5), dpi=80)\n",
        "fig.patch.set_facecolor((1.0, 1.0, 1.0))\n",
        "plt.plot(data_date, data_close_price, label=\"Actual prices\", color=config[\"plots\"][\"color_actual\"])\n",
        "plt.plot(data_date, to_plot_data_y_train_pred, label=\"Predicted prices (train)\", color=config[\"plots\"][\"color_pred_train\"])\n",
        "plt.plot(data_date, to_plot_data_y_val_pred, label=\"Predicted prices (validation)\", color=config[\"plots\"][\"color_pred_val\"])\n",
        "plt.title(\"Compare predicted prices to actual prices\")\n",
        "xticks = [data_date[i] if ((i%config[\"plots\"][\"xticks_interval\"]==0 and (num_data_points-i) > config[\"plots\"][\"xticks_interval\"]) or i==num_data_points-1) else None for i in range(num_data_points)] # make x ticks nice\n",
        "x = np.arange(0,len(xticks))\n",
        "plt.xticks(x, xticks, rotation='vertical')\n",
        "plt.grid(visible=None, which='major', axis='y', linestyle='--')\n",
        "plt.legend()\n",
        "plt.show()\n"
      ]
    },
    {
      "cell_type": "code",
      "execution_count": null,
      "metadata": {
        "colab": {
          "base_uri": "https://localhost:8080/",
          "height": 259
        },
        "id": "gdXcmjNNplcs",
        "outputId": "d4ab89d7-e275-4eba-8ffe-c29c11ec9505"
      },
      "outputs": [
        {
          "ename": "ValueError",
          "evalue": "x and y must have same first dimension, but have shapes (726,) and (35280,)",
          "output_type": "error",
          "traceback": [
            "\u001b[31m---------------------------------------------------------------------------\u001b[39m",
            "\u001b[31mValueError\u001b[39m                                Traceback (most recent call last)",
            "\u001b[36mCell\u001b[39m\u001b[36m \u001b[39m\u001b[32mIn[57]\u001b[39m\u001b[32m, line 11\u001b[39m\n\u001b[32m      9\u001b[39m fig = plt.figure(figsize=(\u001b[32m25\u001b[39m, \u001b[32m5\u001b[39m), dpi=\u001b[32m80\u001b[39m)\n\u001b[32m     10\u001b[39m fig.patch.set_facecolor((\u001b[32m1.0\u001b[39m, \u001b[32m1.0\u001b[39m, \u001b[32m1.0\u001b[39m))\n\u001b[32m---> \u001b[39m\u001b[32m11\u001b[39m \u001b[43mplt\u001b[49m\u001b[43m.\u001b[49m\u001b[43mplot\u001b[49m\u001b[43m(\u001b[49m\u001b[43mto_plot_data_date\u001b[49m\u001b[43m,\u001b[49m\u001b[43m \u001b[49m\u001b[43mto_plot_data_y_val_subset\u001b[49m\u001b[43m,\u001b[49m\u001b[43m \u001b[49m\u001b[43mlabel\u001b[49m\u001b[43m=\u001b[49m\u001b[33;43m\"\u001b[39;49m\u001b[33;43mActual prices\u001b[39;49m\u001b[33;43m\"\u001b[39;49m\u001b[43m,\u001b[49m\u001b[43m \u001b[49m\u001b[43mcolor\u001b[49m\u001b[43m=\u001b[49m\u001b[43mconfig\u001b[49m\u001b[43m[\u001b[49m\u001b[33;43m\"\u001b[39;49m\u001b[33;43mplots\u001b[39;49m\u001b[33;43m\"\u001b[39;49m\u001b[43m]\u001b[49m\u001b[43m[\u001b[49m\u001b[33;43m\"\u001b[39;49m\u001b[33;43mcolor_actual\u001b[39;49m\u001b[33;43m\"\u001b[39;49m\u001b[43m]\u001b[49m\u001b[43m)\u001b[49m\n\u001b[32m     12\u001b[39m plt.plot(to_plot_data_date, to_plot_predicted_val.squeeze(), label=\u001b[33m\"\u001b[39m\u001b[33mPredicted prices (validation)\u001b[39m\u001b[33m\"\u001b[39m, color=config[\u001b[33m\"\u001b[39m\u001b[33mplots\u001b[39m\u001b[33m\"\u001b[39m][\u001b[33m\"\u001b[39m\u001b[33mcolor_pred_val\u001b[39m\u001b[33m\"\u001b[39m])\n\u001b[32m     13\u001b[39m plt.title(\u001b[33m\"\u001b[39m\u001b[33mZoom in to examine predicted price on validation data portion\u001b[39m\u001b[33m\"\u001b[39m)\n",
            "\u001b[36mFile \u001b[39m\u001b[32mc:\\Users\\mewan\\AppData\\Local\\Programs\\Python\\Python311\\Lib\\site-packages\\matplotlib\\pyplot.py:3827\u001b[39m, in \u001b[36mplot\u001b[39m\u001b[34m(scalex, scaley, data, *args, **kwargs)\u001b[39m\n\u001b[32m   3819\u001b[39m \u001b[38;5;129m@_copy_docstring_and_deprecators\u001b[39m(Axes.plot)\n\u001b[32m   3820\u001b[39m \u001b[38;5;28;01mdef\u001b[39;00m\u001b[38;5;250m \u001b[39m\u001b[34mplot\u001b[39m(\n\u001b[32m   3821\u001b[39m     *args: \u001b[38;5;28mfloat\u001b[39m | ArrayLike | \u001b[38;5;28mstr\u001b[39m,\n\u001b[32m   (...)\u001b[39m\u001b[32m   3825\u001b[39m     **kwargs,\n\u001b[32m   3826\u001b[39m ) -> \u001b[38;5;28mlist\u001b[39m[Line2D]:\n\u001b[32m-> \u001b[39m\u001b[32m3827\u001b[39m     \u001b[38;5;28;01mreturn\u001b[39;00m \u001b[43mgca\u001b[49m\u001b[43m(\u001b[49m\u001b[43m)\u001b[49m\u001b[43m.\u001b[49m\u001b[43mplot\u001b[49m\u001b[43m(\u001b[49m\n\u001b[32m   3828\u001b[39m \u001b[43m        \u001b[49m\u001b[43m*\u001b[49m\u001b[43margs\u001b[49m\u001b[43m,\u001b[49m\n\u001b[32m   3829\u001b[39m \u001b[43m        \u001b[49m\u001b[43mscalex\u001b[49m\u001b[43m=\u001b[49m\u001b[43mscalex\u001b[49m\u001b[43m,\u001b[49m\n\u001b[32m   3830\u001b[39m \u001b[43m        \u001b[49m\u001b[43mscaley\u001b[49m\u001b[43m=\u001b[49m\u001b[43mscaley\u001b[49m\u001b[43m,\u001b[49m\n\u001b[32m   3831\u001b[39m \u001b[43m        \u001b[49m\u001b[43m*\u001b[49m\u001b[43m*\u001b[49m\u001b[43m(\u001b[49m\u001b[43m{\u001b[49m\u001b[33;43m\"\u001b[39;49m\u001b[33;43mdata\u001b[39;49m\u001b[33;43m\"\u001b[39;49m\u001b[43m:\u001b[49m\u001b[43m \u001b[49m\u001b[43mdata\u001b[49m\u001b[43m}\u001b[49m\u001b[43m \u001b[49m\u001b[38;5;28;43;01mif\u001b[39;49;00m\u001b[43m \u001b[49m\u001b[43mdata\u001b[49m\u001b[43m \u001b[49m\u001b[38;5;129;43;01mis\u001b[39;49;00m\u001b[43m \u001b[49m\u001b[38;5;129;43;01mnot\u001b[39;49;00m\u001b[43m \u001b[49m\u001b[38;5;28;43;01mNone\u001b[39;49;00m\u001b[43m \u001b[49m\u001b[38;5;28;43;01melse\u001b[39;49;00m\u001b[43m \u001b[49m\u001b[43m{\u001b[49m\u001b[43m}\u001b[49m\u001b[43m)\u001b[49m\u001b[43m,\u001b[49m\n\u001b[32m   3832\u001b[39m \u001b[43m        \u001b[49m\u001b[43m*\u001b[49m\u001b[43m*\u001b[49m\u001b[43mkwargs\u001b[49m\u001b[43m,\u001b[49m\n\u001b[32m   3833\u001b[39m \u001b[43m    \u001b[49m\u001b[43m)\u001b[49m\n",
            "\u001b[36mFile \u001b[39m\u001b[32mc:\\Users\\mewan\\AppData\\Local\\Programs\\Python\\Python311\\Lib\\site-packages\\matplotlib\\axes\\_axes.py:1777\u001b[39m, in \u001b[36mAxes.plot\u001b[39m\u001b[34m(self, scalex, scaley, data, *args, **kwargs)\u001b[39m\n\u001b[32m   1534\u001b[39m \u001b[38;5;250m\u001b[39m\u001b[33;03m\"\"\"\u001b[39;00m\n\u001b[32m   1535\u001b[39m \u001b[33;03mPlot y versus x as lines and/or markers.\u001b[39;00m\n\u001b[32m   1536\u001b[39m \n\u001b[32m   (...)\u001b[39m\u001b[32m   1774\u001b[39m \u001b[33;03m(``'green'``) or hex strings (``'#008000'``).\u001b[39;00m\n\u001b[32m   1775\u001b[39m \u001b[33;03m\"\"\"\u001b[39;00m\n\u001b[32m   1776\u001b[39m kwargs = cbook.normalize_kwargs(kwargs, mlines.Line2D)\n\u001b[32m-> \u001b[39m\u001b[32m1777\u001b[39m lines = [*\u001b[38;5;28mself\u001b[39m._get_lines(\u001b[38;5;28mself\u001b[39m, *args, data=data, **kwargs)]\n\u001b[32m   1778\u001b[39m \u001b[38;5;28;01mfor\u001b[39;00m line \u001b[38;5;129;01min\u001b[39;00m lines:\n\u001b[32m   1779\u001b[39m     \u001b[38;5;28mself\u001b[39m.add_line(line)\n",
            "\u001b[36mFile \u001b[39m\u001b[32mc:\\Users\\mewan\\AppData\\Local\\Programs\\Python\\Python311\\Lib\\site-packages\\matplotlib\\axes\\_base.py:297\u001b[39m, in \u001b[36m_process_plot_var_args.__call__\u001b[39m\u001b[34m(self, axes, data, return_kwargs, *args, **kwargs)\u001b[39m\n\u001b[32m    295\u001b[39m     this += args[\u001b[32m0\u001b[39m],\n\u001b[32m    296\u001b[39m     args = args[\u001b[32m1\u001b[39m:]\n\u001b[32m--> \u001b[39m\u001b[32m297\u001b[39m \u001b[38;5;28;01myield from\u001b[39;00m \u001b[38;5;28;43mself\u001b[39;49m\u001b[43m.\u001b[49m\u001b[43m_plot_args\u001b[49m\u001b[43m(\u001b[49m\n\u001b[32m    298\u001b[39m \u001b[43m    \u001b[49m\u001b[43maxes\u001b[49m\u001b[43m,\u001b[49m\u001b[43m \u001b[49m\u001b[43mthis\u001b[49m\u001b[43m,\u001b[49m\u001b[43m \u001b[49m\u001b[43mkwargs\u001b[49m\u001b[43m,\u001b[49m\u001b[43m \u001b[49m\u001b[43mambiguous_fmt_datakey\u001b[49m\u001b[43m=\u001b[49m\u001b[43mambiguous_fmt_datakey\u001b[49m\u001b[43m,\u001b[49m\n\u001b[32m    299\u001b[39m \u001b[43m    \u001b[49m\u001b[43mreturn_kwargs\u001b[49m\u001b[43m=\u001b[49m\u001b[43mreturn_kwargs\u001b[49m\n\u001b[32m    300\u001b[39m \u001b[43m\u001b[49m\u001b[43m)\u001b[49m\n",
            "\u001b[36mFile \u001b[39m\u001b[32mc:\\Users\\mewan\\AppData\\Local\\Programs\\Python\\Python311\\Lib\\site-packages\\matplotlib\\axes\\_base.py:494\u001b[39m, in \u001b[36m_process_plot_var_args._plot_args\u001b[39m\u001b[34m(self, axes, tup, kwargs, return_kwargs, ambiguous_fmt_datakey)\u001b[39m\n\u001b[32m    491\u001b[39m     axes.yaxis.update_units(y)\n\u001b[32m    493\u001b[39m \u001b[38;5;28;01mif\u001b[39;00m x.shape[\u001b[32m0\u001b[39m] != y.shape[\u001b[32m0\u001b[39m]:\n\u001b[32m--> \u001b[39m\u001b[32m494\u001b[39m     \u001b[38;5;28;01mraise\u001b[39;00m \u001b[38;5;167;01mValueError\u001b[39;00m(\u001b[33mf\u001b[39m\u001b[33m\"\u001b[39m\u001b[33mx and y must have same first dimension, but \u001b[39m\u001b[33m\"\u001b[39m\n\u001b[32m    495\u001b[39m                      \u001b[33mf\u001b[39m\u001b[33m\"\u001b[39m\u001b[33mhave shapes \u001b[39m\u001b[38;5;132;01m{\u001b[39;00mx.shape\u001b[38;5;132;01m}\u001b[39;00m\u001b[33m and \u001b[39m\u001b[38;5;132;01m{\u001b[39;00my.shape\u001b[38;5;132;01m}\u001b[39;00m\u001b[33m\"\u001b[39m)\n\u001b[32m    496\u001b[39m \u001b[38;5;28;01mif\u001b[39;00m x.ndim > \u001b[32m2\u001b[39m \u001b[38;5;129;01mor\u001b[39;00m y.ndim > \u001b[32m2\u001b[39m:\n\u001b[32m    497\u001b[39m     \u001b[38;5;28;01mraise\u001b[39;00m \u001b[38;5;167;01mValueError\u001b[39;00m(\u001b[33mf\u001b[39m\u001b[33m\"\u001b[39m\u001b[33mx and y can be no greater than 2D, but have \u001b[39m\u001b[33m\"\u001b[39m\n\u001b[32m    498\u001b[39m                      \u001b[33mf\u001b[39m\u001b[33m\"\u001b[39m\u001b[33mshapes \u001b[39m\u001b[38;5;132;01m{\u001b[39;00mx.shape\u001b[38;5;132;01m}\u001b[39;00m\u001b[33m and \u001b[39m\u001b[38;5;132;01m{\u001b[39;00my.shape\u001b[38;5;132;01m}\u001b[39;00m\u001b[33m\"\u001b[39m)\n",
            "\u001b[31mValueError\u001b[39m: x and y must have same first dimension, but have shapes (726,) and (35280,)"
          ]
        },
        {
          "data": {
            "image/png": "[encoded data removed]",
            "text/plain": [
              "<Figure size 2000x400 with 1 Axes>"
            ]
          },
          "metadata": {},
          "output_type": "display_data"
        }
      ],
      "source": [
        "# prepare data for plotting the zoomed in view of the predicted prices (on validation set) vs. actual prices\n",
        "\n",
        "to_plot_data_y_val_subset = label_scaler.inverse_transform(predicted_val.reshape(-1, 1)).flatten()\n",
        "to_plot_predicted_val = label_scaler.inverse_transform(predicted_val.reshape(-1, 1)).flatten()\n",
        "to_plot_data_date = data_date[split_index+config[\"data\"][\"window_size\"]:]\n",
        "\n",
        "# plots\n",
        "\n",
        "fig = plt.figure(figsize=(25, 5), dpi=80)\n",
        "fig.patch.set_facecolor((1.0, 1.0, 1.0))\n",
        "plt.plot(to_plot_data_date, to_plot_data_y_val_subset, label=\"Actual prices\", color=config[\"plots\"][\"color_actual\"])\n",
        "plt.plot(to_plot_data_date, to_plot_predicted_val.squeeze(), label=\"Predicted prices (validation)\", color=config[\"plots\"][\"color_pred_val\"])\n",
        "plt.title(\"Zoom in to examine predicted price on validation data portion\")\n",
        "xticks = [to_plot_data_date[i] if ((i%int(config[\"plots\"][\"xticks_interval\"]/5)==0 and (len(to_plot_data_date)-i) > config[\"plots\"][\"xticks_interval\"]/6) or i==len(to_plot_data_date)-1) else None for i in range(len(to_plot_data_date))] # make x ticks nice\n",
        "xs = np.arange(0,len(xticks))\n",
        "plt.xticks(xs, xticks, rotation='vertical')\n",
        "plt.grid(visible=None, which='major', axis='y', linestyle='--')\n",
        "plt.legend()\n",
        "plt.show()"
      ]
    },
    {
      "cell_type": "code",
      "execution_count": null,
      "metadata": {
        "colab": {
          "base_uri": "https://localhost:8080/",
          "height": 244
        },
        "id": "8Xs1ilzsr3rf",
        "outputId": "670f4b19-1324-4875-ac4f-da8b6e915151"
      },
      "outputs": [],
      "source": [
        "# predict the closing price of the next trading day\n",
        "\n",
        "model.eval() # Prime for predicting (turn off dropout and normalize data)\n",
        "\n",
        "predictions = np.array([])\n",
        "current_sequence = data_x_unseen.copy()\n",
        "\n",
        "forecast_time = 7\n",
        "\n",
        "for i in range(forecast_time):\n",
        "  x = torch.tensor(current_sequence).float().unsqueeze(0).to(config[\"training\"][\"device\"]) # this is the data type and shape required, [batch, sequence, feature]\n",
        "  next_price_tensor = model(x)       # Prediction\n",
        "  next_price = next_price_tensor.cpu().detach().numpy()[0]\n",
        "  predictions = np.append(predictions, next_price)\n",
        "  next_price_vector = np.zeros((1, current_sequence.shape[1]))  # (1, 4)\n",
        "  next_price_vector[0, 0] = next_price  # assuming you only predict the closing price\n",
        "  current_sequence = np.concatenate((current_sequence[1:], next_price_vector), axis=0)\n",
        "\n",
        "\n",
        "\n",
        "\n",
        "# --------------------------\n",
        "# Prepare data for plotting\n",
        "# --------------------------\n",
        "plot_range = 10  # Number of days to plot (last 9 days + the predicted day)\n",
        "\n",
        "# Initialize arrays to hold data for the last plot_range days\n",
        "to_plot_data_y_val = np.zeros(plot_range)       # Actual validation prices\n",
        "to_plot_data_y_val_pred = np.zeros(plot_range)    # Past predicted prices from validation\n",
        "to_plot_data_y_test_pred = np.zeros(plot_range)   # Our forecast (next day's prediction)\n",
        "\n",
        "# Fill the first plot_range-1 indices with actual and past predicted values\n",
        "# (using the last plot_range-1 entries from the validation data)\n",
        "to_plot_data_y_val[:plot_range-1] = label_scaler.inverse_transform(data_y_val[-plot_range+1:].reshape(-1, 1)).flatten()\n",
        "to_plot_data_y_val_pred[:plot_range-1] = label_scaler.inverse_transform(predicted_val[-(plot_range-1):].reshape(-1, 1)).flatten()\n",
        "\n",
        "# For the forecasted next day, use the first prediction from our predictions array.\n",
        "# Convert the scalar into a 2D array so that scaler.inverse_transform works properly.\n",
        "next_day_pred = label_scaler.inverse_transform(np.array([[predictions[0]]]))[0, 0]\n",
        "to_plot_data_y_test_pred[plot_range-1] = next_day_pred\n",
        "\n",
        "# Replace zeros with None so that they are not plotted (this creates gaps where there is no data)\n",
        "to_plot_data_y_val = np.where(to_plot_data_y_val == 0, None, to_plot_data_y_val)\n",
        "to_plot_data_y_val_pred = np.where(to_plot_data_y_val_pred == 0, None, to_plot_data_y_val_pred)\n",
        "to_plot_data_y_test_pred = np.where(to_plot_data_y_test_pred == 0, None, to_plot_data_y_test_pred)\n",
        "\n",
        "# Prepare the x-axis dates: take the last plot_range-1 dates and append \"tomorrow\"\n",
        "plot_date_test = list(data_date[-plot_range+1:])  # Ensure we have a list of dates\n",
        "plot_date_test.append(\"tomorrow\")\n",
        "\n",
        "# --------------------------\n",
        "# Plot the data\n",
        "# --------------------------\n",
        "fig = plt.figure(figsize=(25, 5), dpi=80)\n",
        "fig.patch.set_facecolor((1.0, 1.0, 1.0))\n",
        "plt.plot(plot_date_test, to_plot_data_y_val, label=\"Actual prices\", marker=\".\", markersize=10, color=config[\"plots\"][\"color_actual\"])\n",
        "plt.plot(plot_date_test, to_plot_data_y_val_pred, label=\"Past predicted prices\", marker=\".\", markersize=10, color=config[\"plots\"][\"color_pred_val\"])\n",
        "plt.plot(plot_date_test, to_plot_data_y_test_pred, label=\"Predicted price for next day\", marker=\".\", markersize=20, color=config[\"plots\"][\"color_pred_test\"])\n",
        "plt.title(\"Predicted close price of the next trading day\")\n",
        "plt.grid(visible=None, which='major', axis='y', linestyle='--')\n",
        "plt.legend()\n",
        "plt.show()\n",
        "\n",
        "print(\"Predicted close price of the next trading day:\", round(to_plot_data_y_test_pred[plot_range-1], 2))\n"
      ]
    },
    {
      "cell_type": "code",
      "execution_count": null,
      "metadata": {
        "colab": {
          "base_uri": "https://localhost:8080/"
        },
        "id": "vtHbHSaMlwop",
        "outputId": "f6634b23-0067-46c2-a76b-7a3559587692"
      },
      "outputs": [],
      "source": [
        "print(model)"
      ]
    },
    {
      "cell_type": "code",
      "execution_count": null,
      "metadata": {
        "colab": {
          "base_uri": "https://localhost:8080/",
          "height": 17
        },
        "id": "QvIPpBz1lxqW",
        "outputId": "13cf463b-b7b1-4617-93e9-62e09de04873"
      },
      "outputs": [],
      "source": [
        "#from google.colab import files\n",
        "\n",
        "symbol = \"AAPL\" \n",
        "\n",
        "save_dir = \"stock_models\"\n",
        "os.makedirs(save_dir, exist_ok=True)\n",
        "\n",
        "save_path = os.path.join(save_dir, f\"{symbol}.pth\")\n",
        "torch.save(model.state_dict(), save_path)\n",
        "\n",
        "#files.download(save_path)"
      ]
    }
  ],
  "metadata": {
    "accelerator": "GPU",
    "colab": {
      "gpuType": "T4",
      "provenance": []
    },
    "kernelspec": {
      "display_name": "Python 3",
      "name": "python3"
    },
    "language_info": {
      "codemirror_mode": {
        "name": "ipython",
        "version": 3
      },
      "file_extension": ".py",
      "mimetype": "text/x-python",
      "name": "python",
      "nbconvert_exporter": "python",
      "pygments_lexer": "ipython3",
      "version": "3.11.9"
    }
  },
  "nbformat": 4,
  "nbformat_minor": 0
}
